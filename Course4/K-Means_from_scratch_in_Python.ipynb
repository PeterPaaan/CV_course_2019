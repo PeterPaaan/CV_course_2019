{
 "cells": [
  {
   "cell_type": "markdown",
   "metadata": {},
   "source": [
    "## implement K-means clustering from scratch in Python"
   ]
  },
  {
   "cell_type": "markdown",
   "metadata": {},
   "source": [
    "_To inplement K-means Clustering from scratch, 3 questions have to be answered:_\n",
    "- **First, how does the algorithm find the centroid of each cluster?**\n",
    "> To be concrete, suppose we want to group out data into 5 groups, we start from 5 initial data points, how did\n",
    "these 5 points finally arrived the most probable centroid of each cluster?\n",
    "- **Second, how to determine the optimum number of clusters?**\n",
    "> If we have no a prior knowledge of our data, how can we assert that out data should group into 5, 6, or 7 groups?\n",
    "what is the optimum value of K?\n",
    "- **Third, how to initialize centroids?**\n",
    "> Suppose we have already find a resonable way to determine the optimum K value. how should we choose the initial K data point? Is randomly selection a good choice?\n",
    "\n",
    "_@PZC Apr 29, 2019"
   ]
  },
  {
   "cell_type": "code",
   "execution_count": 27,
   "metadata": {},
   "outputs": [],
   "source": [
    "import numpy as np\n",
    "import pandas as pd \n",
    "from matplotlib import pyplot as plt\n",
    "import random as rd"
   ]
  },
  {
   "cell_type": "code",
   "execution_count": 147,
   "metadata": {},
   "outputs": [],
   "source": [
    "# 1. Load dataset\n",
    "file_path = \"Mall_Customers.csv\"\n",
    "dataset = pd.read_csv(file_path)\n",
    "# dataset.describe()"
   ]
  },
  {
   "cell_type": "code",
   "execution_count": 18,
   "metadata": {},
   "outputs": [
    {
     "data": {
      "text/plain": [
       "(200, 2)"
      ]
     },
     "execution_count": 18,
     "metadata": {},
     "output_type": "execute_result"
    }
   ],
   "source": [
    "# taking 'Annual Income' and 'Spending Score' as our data\n",
    "X = dataset.iloc[:, [3, 4]].values\n",
    "X.shape"
   ]
  },
  {
   "cell_type": "code",
   "execution_count": 39,
   "metadata": {},
   "outputs": [
    {
     "data": {
      "image/png": "[encoded data removed]",
      "text/plain": [
       "<Figure size 432x288 with 1 Axes>"
      ]
     },
     "metadata": {
      "needs_background": "light"
     },
     "output_type": "display_data"
    }
   ],
   "source": [
    "# versualising the dataset\n",
    "plt.scatter(X[:, 0], X[:, 1])\n",
    "plt.xlabel('Annual Income')\n",
    "plt.ylabel('Spending Score')\n",
    "plt.show()"
   ]
  },
  {
   "cell_type": "code",
   "execution_count": 103,
   "metadata": {},
   "outputs": [],
   "source": [
    "# 2. Set iteration times\n",
    "m = X.shape[0]  # vertical axis, represents numbers in a raw; thus m is numbers of training examples\n",
    "n = X.shape[1]  # horizontal axis, represents numbers in a column; thus n is numbers of features/labels\n",
    "n_iter = 200  # set iteration times"
   ]
  },
  {
   "cell_type": "code",
   "execution_count": 22,
   "metadata": {},
   "outputs": [],
   "source": [
    "# 3. Set the number of clusters\n",
    "K = 5 # That's how many clusters you want to cluster the dataset into."
   ]
  },
  {
   "cell_type": "code",
   "execution_count": 105,
   "metadata": {},
   "outputs": [
    {
     "name": "stdout",
     "output_type": "stream",
     "text": [
      "[[ 65.  20.  62. 120.  43.]\n",
      " [ 48.  13.  42.  79.  41.]]\n"
     ]
    }
   ],
   "source": [
    "# 4. K-means Clustering steps\n",
    "# 4.1 Initialize the centroids randomly from the data points (random is always not a good choice)\n",
    "# centriods is a nxK matrix (n is the number of features that describes a single data points, n=2 here.)\n",
    "Centroids = np.array([]).reshape(n, 0) # init the nparray, 2 raws 0 column empty array\n",
    "for i in range(K):\n",
    "    rand = rd.randint(0, m-1)  # choose a raw index randomly\n",
    "    Centroids = np.c_[Centroids, X[rand]]  # concatentate alone the horizontal orientation (axis 1)\n",
    "print(Centroids)"
   ]
  },
  {
   "cell_type": "code",
   "execution_count": 33,
   "metadata": {},
   "outputs": [
    {
     "data": {
      "text/plain": [
       "array([[85., 77., 69., 67., 40.],\n",
       "       [75., 74., 91., 57., 42.]])"
      ]
     },
     "execution_count": 33,
     "metadata": {},
     "output_type": "execute_result"
    }
   ],
   "source": [
    "# 4.2 Find the true Centroids starting from the randomly chosen points (here's the Core Algrithm of Kmeans)\n",
    "# 4.2a  For each training example compute the euclidian distance from the centroid and assign the cluster based \n",
    "#         on the minimal distance\n",
    "\n",
    "# the output is a dictionary with cluster number (K) as Keys and the data points which belong to that cluster as values\n",
    "Output  = {}"
   ]
  },
  {
   "cell_type": "code",
   "execution_count": 50,
   "metadata": {},
   "outputs": [
    {
     "name": "stdout",
     "output_type": "stream",
     "text": [
      "euc_dist shape: (200, 5) \n",
      "Cluster index (C) shape: (200,)\n"
     ]
    }
   ],
   "source": [
    "# sine we calculate the euc_dist from every data points (m) to every Centroids (K), \n",
    "# we eventually get a mxK matrix which store all the euc_dists\n",
    "euc_dist = np.array([]).reshape(m, 0)  # euc_dist --> euclidian distance\n",
    "for k in range(K):\n",
    "    temp_dist = np.sum((X - Centroids[:, k]) ** 2, axis=1)\n",
    "    euc_dist = np.c_[euc_dist, temp_dist]\n",
    "# for each points (raw), now K (K=5 here) euc_dists are attatched to it. \n",
    "# we should find the minimal dist in the 5 dists and which will ditermine its temporal cluster.\n",
    "# since np.argmin() returns the indices of the minimum values along an axis, this can simply tell us each \n",
    "# data points belongs to which cluster in the 5 clusters in current iteration.\n",
    "C = np.argmin(euc_dist, axis=1) + 1\n",
    "print('euc_dist shape: {} \\nCluster index (C) shape: {}'. format(euc_dist.shape, C.shape))"
   ]
  },
  {
   "cell_type": "code",
   "execution_count": 86,
   "metadata": {},
   "outputs": [],
   "source": [
    "# 4.2b Adjust the centroid of each cluster by taking the average of all the data points \n",
    "#       which belong to that cluster on the basis of the computations performed in step 4.2a.\n",
    "# to be concrete, we have 200 data points, and they have grouped into 5 groups in step 4.2a, \n",
    "# for example, C1, 40 data points; C2, 50; C3, 30; C4, 30; C5, 50. \n",
    "# to adjuct centroids according to the average (avg in every demension of features) in each \n",
    "# cluster, we should first regroup the Cluster Index (C) obtained in step 4.2a\n",
    "Y = {}\n",
    "for k in range(K):\n",
    "    Y[k+1] = np.array([]).reshape(2, 0)  # Cluster index is starting from 1 not 0, that why k + 1\n",
    "for i in range(m):\n",
    "    Y[C[i]] = np.c_[Y[C[i]], X[i]] # store all points that belong to cluster C[i] in to Y[C[i]], C[i] = 1, 2, 3, 4, 5\n",
    "\n",
    "for k in range(K):\n",
    "    Y[k+1] = Y[k+1].T  # transpose to column verctor\n",
    "for k in range(K):\n",
    "    Centroids[:, k] = np.mean(Y[k+1], axis=0) # calculate the mean (in every feature demension) in each cluster\n",
    "                                                              # and obtain new Centroids"
   ]
  },
  {
   "cell_type": "code",
   "execution_count": 93,
   "metadata": {},
   "outputs": [
    {
     "data": {
      "text/plain": [
       "array([41.07042254, 41.70422535])"
      ]
     },
     "execution_count": 93,
     "metadata": {},
     "output_type": "execute_result"
    }
   ],
   "source": []
  },
  {
   "cell_type": "code",
   "execution_count": 106,
   "metadata": {},
   "outputs": [],
   "source": [
    "# (step 4.2a + 4.2b) is one single iteration step, now we put it into the iteration loop\n",
    "for i in range(n_iter):\n",
    "    # step 4.2a\n",
    "    Output = {}\n",
    "    euc_dist = np.array([]).reshape(m, 0)  # euc_dist --> euclidian distance\n",
    "    for k in range(K):\n",
    "        temp_dist = np.sum((X - Centroids[:, k]) ** 2, axis=1)\n",
    "        euc_dist = np.c_[euc_dist, temp_dist]   \n",
    "    C = np.argmin(euc_dist, axis=1) + 1\n",
    "    # step 4.2b\n",
    "    Y = {}\n",
    "    for k in range(K):\n",
    "        Y[k+1] = np.array([]).reshape(2, 0)  \n",
    "    for i in range(m):\n",
    "        Y[C[i]] = np.c_[Y[C[i]], X[i]] \n",
    "\n",
    "    for k in range(K):\n",
    "        Y[k+1] = Y[k+1].T\n",
    "    for k in range(K):\n",
    "        Centroids[:, k] = np.mean(Y[k+1], axis=0)\n",
    "    Output = Y"
   ]
  },
  {
   "cell_type": "code",
   "execution_count": 119,
   "metadata": {},
   "outputs": [
    {
     "data": {
      "image/png": "[encoded data removed]",
      "text/plain": [
       "<Figure size 1008x432 with 2 Axes>"
      ]
     },
     "metadata": {
      "needs_background": "light"
     },
     "output_type": "display_data"
    }
   ],
   "source": [
    "# 5. visualising the clustered data after 100 iterations\n",
    "fig = plt.figure(figsize=(14, 6))\n",
    "ax1 = plt.subplot(1, 2, 1)\n",
    "color = ['red', 'blue', 'green', 'cyan', 'magenta']\n",
    "labels = ['cluster1', 'cluster2', 'cluster3', 'cluster4', 'cluster5']\n",
    "for k in range(K):\n",
    "    ax1.scatter(Output[k+1][:, 0], Output[k+1][:, 1], c=color[k], s=10, label=labels[k])\n",
    "ax1.scatter(Centroids[0, :], Centroids[1, :], s=150, c='black', label='Centroids')\n",
    "ax1.set_xlabel('Income')\n",
    "ax1.set_ylabel('Spending Score')\n",
    "ax1.legend()\n",
    "\n",
    "ax2 = plt.subplot(1, 2, 2)\n",
    "ax2.scatter(X[:, 0], X[:, 1], s=10, label='unclustered')\n",
    "ax2.set_xlabel('Annual Income')\n",
    "ax2.set_ylabel('Spending Score')\n",
    "ax2.legend()\n",
    "plt.show()"
   ]
  },
  {
   "cell_type": "code",
   "execution_count": 128,
   "metadata": {},
   "outputs": [],
   "source": [
    "# An important quesiton remains to be answered is that :\n",
    "# How Do We Know We Should Group Our Data into 5 Clusters?\n",
    "# or we should define: what is an appropriate K value?\n",
    "# The Answer: \n",
    "# \"Sum of squares of distances of every data point from its corresponding cluster centroid \n",
    "# should be as minimum as possible\"\n",
    "# we further define \"sum of squares of distance of every data point from its corresponding\n",
    "# cluster centroid\" as WCSS (Within-Cluster Sum of Sqares)"
   ]
  },
  {
   "cell_type": "code",
   "execution_count": 129,
   "metadata": {},
   "outputs": [],
   "source": [
    "# With the definition of WCSS, we can use an Algorithm called ELBOW\n",
    "# to fine the appropriate K value\n",
    "# To be brief, we have a plot which has an x_axis of 'K' and a y_axis of 'WCSS', \n",
    "# the point after which WCSS doesn’t decrease more rapidly is the appropriate value of K."
   ]
  },
  {
   "cell_type": "code",
   "execution_count": null,
   "metadata": {},
   "outputs": [],
   "source": [
    "# To implement the ELBOW algorithm, we change the core K-means code into an object-oriented manner"
   ]
  },
  {
   "cell_type": "code",
   "execution_count": 138,
   "metadata": {},
   "outputs": [],
   "source": [
    "import numpy as np\n",
    "import pandas as pd\n",
    "from matplotlib import pyplot as plt\n",
    "import random as rd\n",
    "\n",
    "class Kmeans:\n",
    "    def __init__(self, X, K):\n",
    "        self.X = X\n",
    "        self.K = K\n",
    "        self.Output = {}\n",
    "        self.m = self.X.shape[0] # dimension of every feature\n",
    "        self.Centroids = np.array([]).reshape(self.X.shape[1], 0)\n",
    "\n",
    "    def fit(self, n_iter):\n",
    "        self.Centroids = np.array([]).reshape(n, 0)\n",
    "        for i in range(K):\n",
    "            rand = rd.randint(0, m-1)\n",
    "            self.Centroids = np.c_[self.Centroids, X[rand]]\n",
    "\n",
    "        for i in range(n_iter):\n",
    "            # step a\n",
    "            euc_dist = np.array([]).reshape(m, 0)\n",
    "            for k in range(K):\n",
    "                temp_dist = np.sum((X - self.Centroids[:, k]) ** 2, axis=1)\n",
    "                euc_dist = np.c_[euc_dist, temp_dist]\n",
    "            C = np.argmin(euc_dist, axis=1) + 1\n",
    "            # step b\n",
    "            Y = {}\n",
    "            for k in range(K):\n",
    "                Y[k+1] = np.array([]).reshape(2, 0)\n",
    "            for i in range(m):\n",
    "                Y[C[i]] = np.c_[Y[C[i]], X[i]]\n",
    "\n",
    "            for k in range(K):\n",
    "                Y[k+1] = Y[k+1].T\n",
    "            for k in range(K):\n",
    "                self.Centroids[:, k] = np.mean(Y[k+1], axis=0)\n",
    "        self.Output = Y\n",
    "        \n",
    "    def draw_result(self):\n",
    "        fig = plt.figure(figsize=(14, 6))\n",
    "        ax1 = plt.subplot(1, 2, 1)\n",
    "        color = ['red', 'blue', 'green', 'cyan', 'magenta', 'black', 'orange', 'purple', 'quartz', 'peru']\n",
    "        labels = ['cluster1', 'cluster2', 'cluster3', 'cluster4', 'cluster5', 'cluster6', 'cluster7', 'cluster8', 'cluster9', 'cluster10']\n",
    "        for k in range(K):\n",
    "            ax1.scatter(self.Output[k+1][:, 0], self.Output[k+1][:, 1], c=color[k], s=10, label=labels[k])\n",
    "        ax1.scatter(self.Centroids[0, :], self.Centroids[1, :], s=150, c='black', label='Centroids')\n",
    "        ax1.set_xlabel('Income')\n",
    "        ax1.set_ylabel('Spending Score')\n",
    "        ax1.legend()\n",
    "        ax1.set_title('K = ' + str(K))\n",
    "\n",
    "        ax2 = plt.subplot(1, 2, 2)\n",
    "        ax2.scatter(X[:, 0], X[:, 1], s=10, label='unclustered')\n",
    "        ax2.set_xlabel('Annual Income')\n",
    "        ax2.set_ylabel('Spending Score')\n",
    "        ax2.legend()\n",
    "        plt.show()\n",
    "        \n",
    "    def predict(self):\n",
    "        return self.Output, self.Centroids.T"
   ]
  },
  {
   "cell_type": "code",
   "execution_count": 142,
   "metadata": {},
   "outputs": [],
   "source": [
    "file_path = \"Mall_Customers.csv\"\n",
    "dataset = pd.read_csv(file_path)\n",
    "X = dataset.iloc[:, [3, 4]].values\n",
    "\n",
    "m = X.shape[0]\n",
    "n = X.shape[1]\n",
    "n_iter = 300\n",
    "\n",
    "# K = 5"
   ]
  },
  {
   "cell_type": "code",
   "execution_count": 140,
   "metadata": {},
   "outputs": [],
   "source": [
    "kmeans = Kmeans(X, K)\n",
    "kmeans.fit(n_iter)"
   ]
  },
  {
   "cell_type": "code",
   "execution_count": 141,
   "metadata": {},
   "outputs": [
    {
     "data": {
      "text/plain": [
       "array([[55.2962963 , 49.51851852],\n",
       "       [25.72727273, 79.36363636],\n",
       "       [26.30434783, 20.91304348],\n",
       "       [88.2       , 17.11428571],\n",
       "       [86.53846154, 82.12820513]])"
      ]
     },
     "execution_count": 141,
     "metadata": {},
     "output_type": "execute_result"
    }
   ],
   "source": [
    "kmeans.predict()[1]"
   ]
  },
  {
   "cell_type": "code",
   "execution_count": 126,
   "metadata": {},
   "outputs": [],
   "source": [
    "# kmeans.draw_result()"
   ]
  },
  {
   "cell_type": "code",
   "execution_count": 143,
   "metadata": {},
   "outputs": [],
   "source": [
    "WCSS_array=np.array([])\n",
    "for K in range(1,11): # suppose we set K = 1, 2, ..., 10\n",
    "    kmeans=Kmeans(X,K)\n",
    "    kmeans.fit(n_iter)\n",
    "    Output,Centroids=kmeans.predict()\n",
    "    wcss=0\n",
    "    for k in range(K):\n",
    "        wcss+=np.sum((Output[k+1]-Centroids[k,:])**2)\n",
    "    WCSS_array=np.append(WCSS_array,wcss)"
   ]
  },
  {
   "cell_type": "code",
   "execution_count": 145,
   "metadata": {
    "scrolled": true
   },
   "outputs": [
    {
     "data": {
      "image/png": "[encoded data removed]",
      "text/plain": [
       "<Figure size 432x288 with 1 Axes>"
      ]
     },
     "metadata": {
      "needs_background": "light"
     },
     "output_type": "display_data"
    }
   ],
   "source": [
    "K_array=np.arange(1,11,1)\n",
    "plt.plot(K_array,WCSS_array)\n",
    "plt.xlabel('Number of Clusters')\n",
    "plt.ylabel('within-cluster sums of squares (WCSS)')\n",
    "plt.title('Elbow method to determine optimum number of clusters')\n",
    "plt.grid()\n",
    "plt.show()\n",
    "# inspecting the figure below, decreasing of WCSS becomes marginal after K = 5\n",
    "# thus we should cluster our dataset into 5 clusters"
   ]
  },
  {
   "cell_type": "code",
   "execution_count": 146,
   "metadata": {},
   "outputs": [],
   "source": [
    "# Finally, once the number of clusters is determined,\n",
    "# How Should We Initialize These Centroids? (the initial position of these centroids)\n",
    "# Choose position of centroids randomly will always cause additional computation time\n",
    "\n",
    "# This problem can be solved by the \"Kmeans ++ Initialization Algorithm\"\n",
    "# detailed description of this algorithm can be found on Wikipedia\n",
    "# its basically consist of the following steps:"
   ]
  },
  {
   "cell_type": "code",
   "execution_count": 170,
   "metadata": {},
   "outputs": [
    {
     "name": "stdout",
     "output_type": "stream",
     "text": [
      "[[65 50]]\n"
     ]
    }
   ],
   "source": [
    "# step 1\n",
    "# Randomly select the first cluster center from the data points and append it to the centroid matrix.\n",
    "i = rd.randint(0, X.shape[0])  # axis 0 is the number of samples\n",
    "Centroid = np.array([X[i]])  \n",
    "print(Centroid)"
   ]
  },
  {
   "cell_type": "code",
   "execution_count": 171,
   "metadata": {},
   "outputs": [],
   "source": [
    "# step 2\n",
    "# loop from the first K to the last K\n",
    "# we will do this latter"
   ]
  },
  {
   "cell_type": "code",
   "execution_count": 172,
   "metadata": {},
   "outputs": [
    {
     "data": {
      "text/plain": [
       "(200,)"
      ]
     },
     "execution_count": 172,
     "metadata": {},
     "output_type": "execute_result"
    }
   ],
   "source": [
    "# step3\n",
    "# for each data point, calculate the euclidian distance square from already chosen centroids (1 centroid have chosen now)\n",
    "# and append the minimum distance to the Distance array\n",
    "D = np.array([])\n",
    "for x in X:\n",
    "    D = np.append(D, np.min(np.sum((x - Centroid) ** 2)))\n",
    "D.shape"
   ]
  },
  {
   "cell_type": "code",
   "execution_count": 173,
   "metadata": {},
   "outputs": [],
   "source": [
    "# step 4\n",
    "# Calculate the probabilities of choosing the particular data point as the next centroid by dividing the \n",
    "# Distance array elements with the sum of Distance array.\n",
    "prob = D/np.sum(D)\n"
   ]
  },
  {
   "cell_type": "code",
   "execution_count": 174,
   "metadata": {},
   "outputs": [],
   "source": [
    "# step 5\n",
    "cummulative_prob = np.cumsum(prob)"
   ]
  },
  {
   "cell_type": "code",
   "execution_count": null,
   "metadata": {},
   "outputs": [],
   "source": [
    "# step 6\n",
    "# select a random number between 0 to 1\n",
    "r = rd.random()\n",
    "i = 0\n",
    "for j, p in enumerate(cummulative_prob):\n",
    "    if r < p:\n",
    "        i = j\n",
    "        break\n",
    "Centroid = np.append(Centroid, [X[i]], axis=0)"
   ]
  },
  {
   "cell_type": "code",
   "execution_count": 198,
   "metadata": {},
   "outputs": [],
   "source": [
    "# Let's putting the above 6 steps into a for loop of K clusters\n",
    "i = rd.randint(0,X.shape[0])\n",
    "Centroid_kpp = np.array([X[i]])\n",
    "K = 5\n",
    "for k in range(1,K):\n",
    "    D = np.array([]) \n",
    "    for x in X:\n",
    "        D = np.append(D,np.min(np.sum((x-Centroid_kpp)**2)))\n",
    "    prob = D/np.sum(D)\n",
    "    cummulative_prob = np.cumsum(prob)\n",
    "    r = rd.random()\n",
    "    i = 0\n",
    "    for j,p in enumerate(cummulative_prob):\n",
    "        if r < p:\n",
    "            i = j\n",
    "            break\n",
    "    Centroid_kpp = np.append(Centroid_kpp,[X[i]],axis=0)\n",
    "# print(Centroid_kpp)"
   ]
  },
  {
   "cell_type": "code",
   "execution_count": 211,
   "metadata": {},
   "outputs": [],
   "source": [
    "Centroid_rand = np.array([]).reshape(0, X.shape[1]) \n",
    "for i in range(K):\n",
    "    rand = rd.randint(0, m-1)  \n",
    "    Centroid_rand = np.append(Centroid_rand, [X[rand]], axis=0)\n",
    "# print(Centroids_rand.T)"
   ]
  },
  {
   "cell_type": "code",
   "execution_count": 285,
   "metadata": {},
   "outputs": [
    {
     "data": {
      "image/png": "[encoded data removed]",
      "text/plain": [
       "<Figure size 576x432 with 1 Axes>"
      ]
     },
     "metadata": {
      "needs_background": "light"
     },
     "output_type": "display_data"
    }
   ],
   "source": [
    "fig = plt.figure(figsize=(8, 6))\n",
    "plt.scatter(X[:, 0], X[:, 1])\n",
    "plt.scatter(Centroid_kpp[:, 0], Centroid_kpp[:, 1], s=200, color='red', label='Kmeans++')\n",
    "plt.scatter(Centroid_rand[:, 0], Centroid_rand[:, 1], s=200, color='black', label='Random')\n",
    "plt.xlabel('Annual Income')\n",
    "plt.ylabel('Spending Score')\n",
    "plt.legend(fontsize='12', facecolor='gray')\n",
    "plt.title('Random Initialization Vs. Kmeans++ Initialization')\n",
    "plt.show()"
   ]
  },
  {
   "cell_type": "code",
   "execution_count": 179,
   "metadata": {},
   "outputs": [],
   "source": [
    "x1 = np.array([2, 4])\n",
    "x2 = np.array([[11, 2], [15, 7], [4, 13], [0, 10]])"
   ]
  },
  {
   "cell_type": "code",
   "execution_count": 185,
   "metadata": {},
   "outputs": [
    {
     "data": {
      "text/plain": [
       "388"
      ]
     },
     "execution_count": 185,
     "metadata": {},
     "output_type": "execute_result"
    }
   ],
   "source": [
    "np.min(np.sum((x1 - x2) ** 2))"
   ]
  },
  {
   "cell_type": "code",
   "execution_count": null,
   "metadata": {},
   "outputs": [],
   "source": [
    "# Finally, we merge Centroid Initialization and Optimun Number of Cluster Algorithm into the core algorithm\n",
    "# of K-means clustering"
   ]
  },
  {
   "cell_type": "code",
   "execution_count": 294,
   "metadata": {},
   "outputs": [],
   "source": [
    "import numpy as np\n",
    "import pandas as pd\n",
    "from matplotlib import pyplot as plt\n",
    "import random as rd\n",
    "\n",
    "class Kmeans:\n",
    "    def __init__(self, X, K):\n",
    "        self.X = X\n",
    "        self.K = K\n",
    "        self.Output = {}\n",
    "        self.m = self.X.shape[0] # dimension of every feature\n",
    "        self.Centroids = np.array([]).reshape(self.X.shape[1], 0)\n",
    "\n",
    "    def kmeanspp(self, X, K):\n",
    "        i = rd.randint(0,X.shape[0])\n",
    "        Centroid_kpp = np.array([X[i]])\n",
    "        for k in range(1,K):\n",
    "            D = np.array([]) \n",
    "            for x in X:\n",
    "                D = np.append(D,np.min(np.sum((x-Centroid_kpp)**2)))\n",
    "            prob = D/np.sum(D)\n",
    "            cummulative_prob = np.cumsum(prob)\n",
    "            r = rd.random()\n",
    "            i = 0\n",
    "            for j,p in enumerate(cummulative_prob):\n",
    "                if r < p:\n",
    "                    i = j\n",
    "                    break\n",
    "            Centroid_kpp = np.append(Centroid_kpp,[X[i]],axis=0)      \n",
    "        return Centroid_kpp.T\n",
    "        \n",
    "    def fit(self, n_iter):\n",
    "        self.Centroids = self.kmeanspp(self.X, self.K)\n",
    "#         we don't use random initialization anymore\n",
    "#         self.Centroids = np.array([]).reshape(n, 0)\n",
    "#         for i in range(K):\n",
    "#             rand = rd.randint(0, m-1)\n",
    "#             self.Centroids = np.c_[self.Centroids, X[rand]]\n",
    "\n",
    "        for i in range(n_iter):\n",
    "            # step a\n",
    "            euc_dist = np.array([]).reshape(m, 0)\n",
    "            for k in range(K):\n",
    "                temp_dist = np.sum((X - self.Centroids[:, k]) ** 2, axis=1)\n",
    "                euc_dist = np.c_[euc_dist, temp_dist]\n",
    "            C = np.argmin(euc_dist, axis=1) + 1\n",
    "            # step b\n",
    "            Y = {}\n",
    "            for k in range(K):\n",
    "                Y[k+1] = np.array([]).reshape(2, 0)\n",
    "            for i in range(m):\n",
    "                Y[C[i]] = np.c_[Y[C[i]], X[i]]\n",
    "\n",
    "            for k in range(K):\n",
    "                Y[k+1] = Y[k+1].T\n",
    "            for k in range(K):\n",
    "                self.Centroids[:, k] = np.mean(Y[k+1], axis=0)\n",
    "            self.Output = Y\n",
    "        \n",
    "    def draw_result(self):\n",
    "        fig = plt.figure(figsize=(14, 6))\n",
    "        ax1 = plt.subplot(1, 2, 1)\n",
    "        color = ['red', 'blue', 'green', 'cyan', 'magenta', 'black', 'orange', 'purple', 'gray', 'pink']\n",
    "        labels = ['cluster1', 'cluster2', 'cluster3', 'cluster4', 'cluster5', 'cluster6', 'cluster7', 'cluster8', 'cluster9', 'cluster10']\n",
    "        for k in range(K):\n",
    "            ax1.scatter(self.Output[k+1][:, 0], self.Output[k+1][:, 1], c=color[k], s=10, label=labels[k])\n",
    "        ax1.scatter(self.Centroids[0, :], self.Centroids[1, :], s=150, c='black', label='Centroids')\n",
    "        ax1.set_xlabel('Income')\n",
    "        ax1.set_ylabel('Spending Score')\n",
    "        ax1.legend()\n",
    "        ax1.set_title('K = ' + str(K))\n",
    "\n",
    "        ax2 = plt.subplot(1, 2, 2)\n",
    "        ax2.scatter(X[:, 0], X[:, 1], s=10, label='unclustered')\n",
    "        ax2.set_xlabel('Annual Income')\n",
    "        ax2.set_ylabel('Spending Score')\n",
    "        ax2.legend()\n",
    "        plt.show()\n",
    "        \n",
    "    def predict(self):\n",
    "        return self.Output, self.Centroids.T\n",
    "    \n",
    "    def WCSS(self):\n",
    "        wcss = 0\n",
    "        for k in range(self.K):\n",
    "            wcss+=np.sum((self.Output[k+1]-self.Centroids[:,k])**2)        \n",
    "        return wcss"
   ]
  },
  {
   "cell_type": "code",
   "execution_count": 295,
   "metadata": {},
   "outputs": [],
   "source": [
    "file_path = \"Mall_Customers.csv\"\n",
    "dataset = pd.read_csv(file_path)\n",
    "X = dataset.iloc[:, [3, 4]].values\n",
    "\n",
    "m = X.shape[0]\n",
    "n = X.shape[1]\n",
    "n_iter = 300\n",
    "K = 5"
   ]
  },
  {
   "cell_type": "code",
   "execution_count": 296,
   "metadata": {},
   "outputs": [],
   "source": [
    "kmeans = Kmeans(X, K)"
   ]
  },
  {
   "cell_type": "code",
   "execution_count": 299,
   "metadata": {},
   "outputs": [],
   "source": [
    "kmeans.fit(n_iter)"
   ]
  },
  {
   "cell_type": "code",
   "execution_count": 291,
   "metadata": {},
   "outputs": [
    {
     "data": {
      "text/plain": [
       "array([[48, 56],\n",
       "       [87, 18],\n",
       "       [86, 82],\n",
       "       [30, 35],\n",
       "       [24,  9]])"
      ]
     },
     "execution_count": 291,
     "metadata": {},
     "output_type": "execute_result"
    }
   ],
   "source": [
    "kmeans.predict()[1]"
   ]
  },
  {
   "cell_type": "code",
   "execution_count": 292,
   "metadata": {},
   "outputs": [
    {
     "data": {
      "text/plain": [
       "70252.0"
      ]
     },
     "execution_count": 292,
     "metadata": {},
     "output_type": "execute_result"
    }
   ],
   "source": [
    "kmeans.WCSS()"
   ]
  },
  {
   "cell_type": "code",
   "execution_count": 300,
   "metadata": {},
   "outputs": [
    {
     "data": {
      "image/png": "[encoded data removed]",
      "text/plain": [
       "<Figure size 1008x432 with 2 Axes>"
      ]
     },
     "metadata": {
      "needs_background": "light"
     },
     "output_type": "display_data"
    }
   ],
   "source": [
    "kmeans.draw_result()"
   ]
  },
  {
   "cell_type": "code",
   "execution_count": 274,
   "metadata": {},
   "outputs": [],
   "source": [
    "K_end = 11\n",
    "n_iter = 200\n",
    "WCSS_array = np.array([])\n",
    "for K in range(1, K_end):\n",
    "    kmeans = Kmeans(X, K)\n",
    "    kmeans.fit(n_iter)\n",
    "    WCSS_array = np.append(WCSS_array, kmeans.WCSS())\n"
   ]
  },
  {
   "cell_type": "code",
   "execution_count": 281,
   "metadata": {},
   "outputs": [
    {
     "data": {
      "image/png": "[encoded data removed]",
      "text/plain": [
       "<Figure size 576x432 with 1 Axes>"
      ]
     },
     "metadata": {
      "needs_background": "light"
     },
     "output_type": "display_data"
    }
   ],
   "source": [
    "fig = plt.figure(figsize=(8, 6))\n",
    "plt.plot(np.arange(1, 11), WCSS_array)\n",
    "plt.xlabel('Number of Clusters')\n",
    "plt.ylabel('WCSS')\n",
    "plt.title('Find the optimum number of Clusters')\n",
    "plt.xticks([i for i in range(0, 11)])\n",
    "plt.xlim(0, 10)\n",
    "plt.grid()\n",
    "plt.show()"
   ]
  },
  {
   "cell_type": "code",
   "execution_count": 272,
   "metadata": {},
   "outputs": [
    {
     "data": {
      "text/plain": [
       "array([ 1,  2,  3,  4,  5,  6,  7,  8,  9, 10])"
      ]
     },
     "execution_count": 272,
     "metadata": {},
     "output_type": "execute_result"
    }
   ],
   "source": []
  },
  {
   "cell_type": "code",
   "execution_count": null,
   "metadata": {},
   "outputs": [],
   "source": []
  }
 ],
 "metadata": {
  "kernelspec": {
   "display_name": "Python 3",
   "language": "python",
   "name": "python3"
  },
  "language_info": {
   "codemirror_mode": {
    "name": "ipython",
    "version": 3
   },
   "file_extension": ".py",
   "mimetype": "text/x-python",
   "name": "python",
   "nbconvert_exporter": "python",
   "pygments_lexer": "ipython3",
   "version": "3.7.2"
  }
 },
 "nbformat": 4,
 "nbformat_minor": 2
}
